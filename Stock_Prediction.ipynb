{
  "nbformat": 4,
  "nbformat_minor": 0,
  "metadata": {
    "colab": {
      "name": "Stock Prediction.ipynb",
      "provenance": [],
      "collapsed_sections": [],
      "include_colab_link": true
    },
    "kernelspec": {
      "name": "python3",
      "display_name": "Python 3"
    },
    "language_info": {
      "name": "python"
    },
    "accelerator": "GPU"
  },
  "cells": [
    {
      "cell_type": "markdown",
      "metadata": {
        "id": "view-in-github",
        "colab_type": "text"
      },
      "source": [
        "<a href=\"https://colab.research.google.com/github/hardik-sh/Stock-Prediction/blob/main/Stock_Prediction.ipynb\" target=\"_parent\"><img src=\"https://colab.research.google.com/assets/colab-badge.svg\" alt=\"Open In Colab\"/></a>"
      ]
    },
    {
      "cell_type": "code",
      "metadata": {
        "id": "De76GnMH0yMr",
        "colab": {
          "base_uri": "https://localhost:8080/"
        },
        "outputId": "c258227d-e316-4375-f302-75bf10a23382"
      },
      "source": [
        "!pip install yfinance"
      ],
      "execution_count": null,
      "outputs": [
        {
          "output_type": "stream",
          "text": [
            "Requirement already satisfied: yfinance in /usr/local/lib/python3.7/dist-packages (0.1.63)\n",
            "Requirement already satisfied: lxml>=4.5.1 in /usr/local/lib/python3.7/dist-packages (from yfinance) (4.6.3)\n",
            "Requirement already satisfied: pandas>=0.24 in /usr/local/lib/python3.7/dist-packages (from yfinance) (1.1.5)\n",
            "Requirement already satisfied: requests>=2.20 in /usr/local/lib/python3.7/dist-packages (from yfinance) (2.23.0)\n",
            "Requirement already satisfied: numpy>=1.15 in /usr/local/lib/python3.7/dist-packages (from yfinance) (1.19.5)\n",
            "Requirement already satisfied: multitasking>=0.0.7 in /usr/local/lib/python3.7/dist-packages (from yfinance) (0.0.9)\n",
            "Requirement already satisfied: pytz>=2017.2 in /usr/local/lib/python3.7/dist-packages (from pandas>=0.24->yfinance) (2018.9)\n",
            "Requirement already satisfied: python-dateutil>=2.7.3 in /usr/local/lib/python3.7/dist-packages (from pandas>=0.24->yfinance) (2.8.1)\n",
            "Requirement already satisfied: urllib3!=1.25.0,!=1.25.1,<1.26,>=1.21.1 in /usr/local/lib/python3.7/dist-packages (from requests>=2.20->yfinance) (1.24.3)\n",
            "Requirement already satisfied: certifi>=2017.4.17 in /usr/local/lib/python3.7/dist-packages (from requests>=2.20->yfinance) (2021.5.30)\n",
            "Requirement already satisfied: chardet<4,>=3.0.2 in /usr/local/lib/python3.7/dist-packages (from requests>=2.20->yfinance) (3.0.4)\n",
            "Requirement already satisfied: idna<3,>=2.5 in /usr/local/lib/python3.7/dist-packages (from requests>=2.20->yfinance) (2.10)\n",
            "Requirement already satisfied: six>=1.5 in /usr/local/lib/python3.7/dist-packages (from python-dateutil>=2.7.3->pandas>=0.24->yfinance) (1.15.0)\n"
          ],
          "name": "stdout"
        }
      ]
    },
    {
      "cell_type": "code",
      "metadata": {
        "id": "HdHzfZ1SJOfp",
        "colab": {
          "base_uri": "https://localhost:8080/",
          "height": 467
        },
        "outputId": "47ccc2fb-b047-44c8-9d2a-dd8751d3ed92"
      },
      "source": [
        "import numpy as np\n",
        "import pandas as pd\n",
        "import math\n",
        "import pandas_datareader.data as web\n",
        "from sklearn.tree import DecisionTreeRegressor\n",
        "from sklearn.linear_model import LinearRegression\n",
        "from sklearn.model_selection import train_test_split\n",
        "from sklearn.preprocessing import MinMaxScaler\n",
        "import matplotlib.pyplot as plt\n",
        "plt.style.use('bmh')\n",
        "import yfinance as yfin\n",
        "yfin.pdr_override()\n",
        "df = web.DataReader('SBIN.NS',data_source=\"google\",start='2012-01-01',end='2020-01-01')\n",
        "df"
      ],
      "execution_count": null,
      "outputs": [
        {
          "output_type": "stream",
          "text": [
            "\r[*********************100%***********************]  1 of 1 completed\n"
          ],
          "name": "stdout"
        },
        {
          "output_type": "execute_result",
          "data": {
            "text/html": [
              "<div>\n",
              "<style scoped>\n",
              "    .dataframe tbody tr th:only-of-type {\n",
              "        vertical-align: middle;\n",
              "    }\n",
              "\n",
              "    .dataframe tbody tr th {\n",
              "        vertical-align: top;\n",
              "    }\n",
              "\n",
              "    .dataframe thead th {\n",
              "        text-align: right;\n",
              "    }\n",
              "</style>\n",
              "<table border=\"1\" class=\"dataframe\">\n",
              "  <thead>\n",
              "    <tr style=\"text-align: right;\">\n",
              "      <th></th>\n",
              "      <th>Open</th>\n",
              "      <th>High</th>\n",
              "      <th>Low</th>\n",
              "      <th>Close</th>\n",
              "      <th>Adj Close</th>\n",
              "      <th>Volume</th>\n",
              "    </tr>\n",
              "    <tr>\n",
              "      <th>Date</th>\n",
              "      <th></th>\n",
              "      <th></th>\n",
              "      <th></th>\n",
              "      <th></th>\n",
              "      <th></th>\n",
              "      <th></th>\n",
              "    </tr>\n",
              "  </thead>\n",
              "  <tbody>\n",
              "    <tr>\n",
              "      <th>2012-01-02</th>\n",
              "      <td>162.899994</td>\n",
              "      <td>163.600006</td>\n",
              "      <td>161.139999</td>\n",
              "      <td>162.764999</td>\n",
              "      <td>147.880875</td>\n",
              "      <td>14464990</td>\n",
              "    </tr>\n",
              "    <tr>\n",
              "      <th>2012-01-03</th>\n",
              "      <td>164.399994</td>\n",
              "      <td>171.000000</td>\n",
              "      <td>164.300003</td>\n",
              "      <td>170.565002</td>\n",
              "      <td>154.967636</td>\n",
              "      <td>21341020</td>\n",
              "    </tr>\n",
              "    <tr>\n",
              "      <th>2012-01-04</th>\n",
              "      <td>171.199997</td>\n",
              "      <td>171.389999</td>\n",
              "      <td>167.520004</td>\n",
              "      <td>169.604996</td>\n",
              "      <td>154.095413</td>\n",
              "      <td>22241630</td>\n",
              "    </tr>\n",
              "    <tr>\n",
              "      <th>2012-01-05</th>\n",
              "      <td>169.600006</td>\n",
              "      <td>171.854996</td>\n",
              "      <td>168.005005</td>\n",
              "      <td>169.244995</td>\n",
              "      <td>153.768341</td>\n",
              "      <td>21344840</td>\n",
              "    </tr>\n",
              "    <tr>\n",
              "      <th>2012-01-06</th>\n",
              "      <td>167.500000</td>\n",
              "      <td>170.759995</td>\n",
              "      <td>165.804993</td>\n",
              "      <td>167.274994</td>\n",
              "      <td>151.978455</td>\n",
              "      <td>21137420</td>\n",
              "    </tr>\n",
              "    <tr>\n",
              "      <th>...</th>\n",
              "      <td>...</td>\n",
              "      <td>...</td>\n",
              "      <td>...</td>\n",
              "      <td>...</td>\n",
              "      <td>...</td>\n",
              "      <td>...</td>\n",
              "    </tr>\n",
              "    <tr>\n",
              "      <th>2019-12-24</th>\n",
              "      <td>333.200012</td>\n",
              "      <td>334.200012</td>\n",
              "      <td>329.200012</td>\n",
              "      <td>331.450012</td>\n",
              "      <td>328.417877</td>\n",
              "      <td>21747782</td>\n",
              "    </tr>\n",
              "    <tr>\n",
              "      <th>2019-12-26</th>\n",
              "      <td>333.000000</td>\n",
              "      <td>333.450012</td>\n",
              "      <td>328.100006</td>\n",
              "      <td>329.850006</td>\n",
              "      <td>326.832520</td>\n",
              "      <td>24616942</td>\n",
              "    </tr>\n",
              "    <tr>\n",
              "      <th>2019-12-27</th>\n",
              "      <td>333.399994</td>\n",
              "      <td>338.350006</td>\n",
              "      <td>333.000000</td>\n",
              "      <td>337.250000</td>\n",
              "      <td>334.164825</td>\n",
              "      <td>33477173</td>\n",
              "    </tr>\n",
              "    <tr>\n",
              "      <th>2019-12-30</th>\n",
              "      <td>337.750000</td>\n",
              "      <td>337.850006</td>\n",
              "      <td>332.500000</td>\n",
              "      <td>334.399994</td>\n",
              "      <td>331.340881</td>\n",
              "      <td>22775554</td>\n",
              "    </tr>\n",
              "    <tr>\n",
              "      <th>2019-12-31</th>\n",
              "      <td>334.399994</td>\n",
              "      <td>336.350006</td>\n",
              "      <td>332.549988</td>\n",
              "      <td>333.750000</td>\n",
              "      <td>330.696838</td>\n",
              "      <td>23801635</td>\n",
              "    </tr>\n",
              "  </tbody>\n",
              "</table>\n",
              "<p>1965 rows × 6 columns</p>\n",
              "</div>"
            ],
            "text/plain": [
              "                  Open        High  ...   Adj Close    Volume\n",
              "Date                                ...                      \n",
              "2012-01-02  162.899994  163.600006  ...  147.880875  14464990\n",
              "2012-01-03  164.399994  171.000000  ...  154.967636  21341020\n",
              "2012-01-04  171.199997  171.389999  ...  154.095413  22241630\n",
              "2012-01-05  169.600006  171.854996  ...  153.768341  21344840\n",
              "2012-01-06  167.500000  170.759995  ...  151.978455  21137420\n",
              "...                ...         ...  ...         ...       ...\n",
              "2019-12-24  333.200012  334.200012  ...  328.417877  21747782\n",
              "2019-12-26  333.000000  333.450012  ...  326.832520  24616942\n",
              "2019-12-27  333.399994  338.350006  ...  334.164825  33477173\n",
              "2019-12-30  337.750000  337.850006  ...  331.340881  22775554\n",
              "2019-12-31  334.399994  336.350006  ...  330.696838  23801635\n",
              "\n",
              "[1965 rows x 6 columns]"
            ]
          },
          "metadata": {
            "tags": []
          },
          "execution_count": 255
        }
      ]
    },
    {
      "cell_type": "code",
      "metadata": {
        "id": "dPY6FlqTnGC-",
        "colab": {
          "base_uri": "https://localhost:8080/"
        },
        "outputId": "c67e7636-0e0e-4c51-ba27-d129d9a318c8"
      },
      "source": [
        "df.shape"
      ],
      "execution_count": null,
      "outputs": [
        {
          "output_type": "execute_result",
          "data": {
            "text/plain": [
              "(1965, 6)"
            ]
          },
          "metadata": {
            "tags": []
          },
          "execution_count": 256
        }
      ]
    },
    {
      "cell_type": "code",
      "metadata": {
        "id": "1c7qzZq_nw8q",
        "colab": {
          "base_uri": "https://localhost:8080/",
          "height": 513
        },
        "outputId": "e49fedef-19b2-4a91-d692-859be27e1317"
      },
      "source": [
        "plt.figure(figsize=(16,8))\n",
        "plt.title('SBI')\n",
        "plt.xlabel('Date')\n",
        "plt.ylabel('Close Price')\n",
        "plt.plot(df['Close'])\n",
        "plt.show()\n"
      ],
      "execution_count": null,
      "outputs": [
        {
          "output_type": "display_data",
          "data": {
            "image/png": "[encoded data removed]",
            "text/plain": [
              "<Figure size 1152x576 with 1 Axes>"
            ]
          },
          "metadata": {
            "tags": [],
            "needs_background": "light"
          }
        }
      ]
    },
    {
      "cell_type": "code",
      "metadata": {
        "id": "vsys4rkwnylJ"
      },
      "source": [
        "from sklearn.preprocessing import MinMaxScaler\n"
      ],
      "execution_count": null,
      "outputs": []
    },
    {
      "cell_type": "code",
      "metadata": {
        "id": "wvewtKdIn0cz",
        "colab": {
          "base_uri": "https://localhost:8080/",
          "height": 204
        },
        "outputId": "e4df98ca-82e4-4144-b1b7-cfa487a0f022"
      },
      "source": [
        "df=df.filter(['Close'])\n",
        "df =df.dropna()\n",
        "dataset = df.values\n",
        "df.head(4)"
      ],
      "execution_count": null,
      "outputs": [
        {
          "output_type": "execute_result",
          "data": {
            "text/html": [
              "<div>\n",
              "<style scoped>\n",
              "    .dataframe tbody tr th:only-of-type {\n",
              "        vertical-align: middle;\n",
              "    }\n",
              "\n",
              "    .dataframe tbody tr th {\n",
              "        vertical-align: top;\n",
              "    }\n",
              "\n",
              "    .dataframe thead th {\n",
              "        text-align: right;\n",
              "    }\n",
              "</style>\n",
              "<table border=\"1\" class=\"dataframe\">\n",
              "  <thead>\n",
              "    <tr style=\"text-align: right;\">\n",
              "      <th></th>\n",
              "      <th>Close</th>\n",
              "    </tr>\n",
              "    <tr>\n",
              "      <th>Date</th>\n",
              "      <th></th>\n",
              "    </tr>\n",
              "  </thead>\n",
              "  <tbody>\n",
              "    <tr>\n",
              "      <th>2012-01-02</th>\n",
              "      <td>162.764999</td>\n",
              "    </tr>\n",
              "    <tr>\n",
              "      <th>2012-01-03</th>\n",
              "      <td>170.565002</td>\n",
              "    </tr>\n",
              "    <tr>\n",
              "      <th>2012-01-04</th>\n",
              "      <td>169.604996</td>\n",
              "    </tr>\n",
              "    <tr>\n",
              "      <th>2012-01-05</th>\n",
              "      <td>169.244995</td>\n",
              "    </tr>\n",
              "  </tbody>\n",
              "</table>\n",
              "</div>"
            ],
            "text/plain": [
              "                 Close\n",
              "Date                  \n",
              "2012-01-02  162.764999\n",
              "2012-01-03  170.565002\n",
              "2012-01-04  169.604996\n",
              "2012-01-05  169.244995"
            ]
          },
          "metadata": {
            "tags": []
          },
          "execution_count": 259
        }
      ]
    },
    {
      "cell_type": "code",
      "metadata": {
        "id": "WdQlWKc8n3jw",
        "colab": {
          "base_uri": "https://localhost:8080/",
          "height": 204
        },
        "outputId": "234e889d-568e-495e-d3c8-8379fb523dea"
      },
      "source": [
        "f_d = 250\n",
        "df['Prediction']=df['Close'].shift(-f_d)\n",
        "df.head(4)"
      ],
      "execution_count": null,
      "outputs": [
        {
          "output_type": "execute_result",
          "data": {
            "text/html": [
              "<div>\n",
              "<style scoped>\n",
              "    .dataframe tbody tr th:only-of-type {\n",
              "        vertical-align: middle;\n",
              "    }\n",
              "\n",
              "    .dataframe tbody tr th {\n",
              "        vertical-align: top;\n",
              "    }\n",
              "\n",
              "    .dataframe thead th {\n",
              "        text-align: right;\n",
              "    }\n",
              "</style>\n",
              "<table border=\"1\" class=\"dataframe\">\n",
              "  <thead>\n",
              "    <tr style=\"text-align: right;\">\n",
              "      <th></th>\n",
              "      <th>Close</th>\n",
              "      <th>Prediction</th>\n",
              "    </tr>\n",
              "    <tr>\n",
              "      <th>Date</th>\n",
              "      <th></th>\n",
              "      <th></th>\n",
              "    </tr>\n",
              "  </thead>\n",
              "  <tbody>\n",
              "    <tr>\n",
              "      <th>2012-01-02</th>\n",
              "      <td>162.764999</td>\n",
              "      <td>249.335007</td>\n",
              "    </tr>\n",
              "    <tr>\n",
              "      <th>2012-01-03</th>\n",
              "      <td>170.565002</td>\n",
              "      <td>252.279999</td>\n",
              "    </tr>\n",
              "    <tr>\n",
              "      <th>2012-01-04</th>\n",
              "      <td>169.604996</td>\n",
              "      <td>253.910004</td>\n",
              "    </tr>\n",
              "    <tr>\n",
              "      <th>2012-01-05</th>\n",
              "      <td>169.244995</td>\n",
              "      <td>249.104996</td>\n",
              "    </tr>\n",
              "  </tbody>\n",
              "</table>\n",
              "</div>"
            ],
            "text/plain": [
              "                 Close  Prediction\n",
              "Date                              \n",
              "2012-01-02  162.764999  249.335007\n",
              "2012-01-03  170.565002  252.279999\n",
              "2012-01-04  169.604996  253.910004\n",
              "2012-01-05  169.244995  249.104996"
            ]
          },
          "metadata": {
            "tags": []
          },
          "execution_count": 260
        }
      ]
    },
    {
      "cell_type": "code",
      "metadata": {
        "id": "BhEsTvtKn5-w",
        "colab": {
          "base_uri": "https://localhost:8080/"
        },
        "outputId": "c55d67cd-6810-4389-e092-8a8d2cb4a379"
      },
      "source": [
        "X = np.array(df.drop(['Prediction'], 1))[:-f_d]\n",
        "print(X)"
      ],
      "execution_count": null,
      "outputs": [
        {
          "output_type": "stream",
          "text": [
            "[[162.76499939]\n",
            " [170.56500244]\n",
            " [169.60499573]\n",
            " ...\n",
            " [289.20001221]\n",
            " [289.5       ]\n",
            " [292.75      ]]\n"
          ],
          "name": "stdout"
        }
      ]
    },
    {
      "cell_type": "code",
      "metadata": {
        "id": "a2F8_4TLn8EA",
        "colab": {
          "base_uri": "https://localhost:8080/"
        },
        "outputId": "86e95e3e-e5a9-423d-bd8c-79d8e6a1cf4e"
      },
      "source": [
        "y = np.array(df['Prediction'])[:-f_d]\n",
        "print(y)"
      ],
      "execution_count": null,
      "outputs": [
        {
          "output_type": "stream",
          "text": [
            "[249.33500671 252.27999878 253.91000366 ... 337.25       334.3999939\n",
            " 333.75      ]\n"
          ],
          "name": "stdout"
        }
      ]
    },
    {
      "cell_type": "code",
      "metadata": {
        "id": "L89rnOdAn99g",
        "colab": {
          "base_uri": "https://localhost:8080/"
        },
        "outputId": "429998cf-2feb-42ec-ddf8-8f2966cc6640"
      },
      "source": [
        "scaler = MinMaxScaler(feature_range=(0,1))\n",
        "scaled_data =scaler.fit_transform(dataset)\n",
        "scaled_data"
      ],
      "execution_count": null,
      "outputs": [
        {
          "output_type": "execute_result",
          "data": {
            "text/plain": [
              "array([[0.06845449],\n",
              "       [0.10311501],\n",
              "       [0.09884907],\n",
              "       ...,\n",
              "       [0.84380557],\n",
              "       [0.83114113],\n",
              "       [0.82825278]])"
            ]
          },
          "metadata": {
            "tags": []
          },
          "execution_count": 263
        }
      ]
    },
    {
      "cell_type": "code",
      "metadata": {
        "id": "FV-6D-nuoAaQ",
        "colab": {
          "base_uri": "https://localhost:8080/"
        },
        "outputId": "075e85cd-8368-4c3a-dfc8-6b4851a82153"
      },
      "source": [
        "training_data_len =math.ceil(len(dataset)*.8)\n",
        "training_data_len\n"
      ],
      "execution_count": null,
      "outputs": [
        {
          "output_type": "execute_result",
          "data": {
            "text/plain": [
              "1572"
            ]
          },
          "metadata": {
            "tags": []
          },
          "execution_count": 264
        }
      ]
    },
    {
      "cell_type": "code",
      "metadata": {
        "id": "ByBCCqlcoCCa",
        "colab": {
          "base_uri": "https://localhost:8080/"
        },
        "outputId": "3f6757e3-213d-46f9-d057-4b206b6286c4"
      },
      "source": [
        "train_data = scaled_data[0:training_data_len , :]\n",
        "x_train =[]\n",
        "y_train =[]\n",
        "for i in range(250,len(train_data)):\n",
        "  x_train.append(train_data[i-250:i,0])\n",
        "  y_train.append(train_data[i,0])\n",
        "  if i<= 251:\n",
        "    print(x_train)\n",
        "    print(y_train)\n",
        "    print()"
      ],
      "execution_count": null,
      "outputs": [
        {
          "output_type": "stream",
          "text": [
            "[array([0.06845449, 0.10311501, 0.09884907, 0.09724936, 0.08849535,\n",
            "       0.07272043, 0.10175966, 0.11258002, 0.12922148, 0.13442055,\n",
            "       0.15232847, 0.16459294, 0.17408018, 0.18250086, 0.20407485,\n",
            "       0.20747424, 0.25204409, 0.25968719, 0.2519552 , 0.22735956,\n",
            "       0.2612869 , 0.26841895, 0.26617488, 0.27975028, 0.30619001,\n",
            "       0.30194632, 0.31289991, 0.31567719, 0.31030041, 0.29134822,\n",
            "       0.32285372, 0.34529419, 0.38959743, 0.4192366 , 0.43496711,\n",
            "       0.34722717, 0.34967119, 0.3252755 , 0.28850429, 0.33667349,\n",
            "       0.34391667, 0.33111892, 0.34353893, 0.3121445 , 0.29961342,\n",
            "       0.2968139 , 0.33451831, 0.37202277, 0.37944366, 0.39157482,\n",
            "       0.36691252, 0.33518483, 0.30392377, 0.31716585, 0.33738449,\n",
            "       0.30527906, 0.30801193, 0.28610468, 0.29130374, 0.26912995,\n",
            "       0.26117577, 0.27672856, 0.2918592 , 0.31058926, 0.3061456 ,\n",
            "       0.27855048, 0.30110201, 0.3043681 , 0.33502936, 0.32825274,\n",
            "       0.35171523, 0.36913435, 0.36355761, 0.3534705 , 0.34964895,\n",
            "       0.31976541, 0.3186545 , 0.31023376, 0.30605671, 0.28968185,\n",
            "       0.29528083, 0.29639175, 0.27128513, 0.2322476 , 0.24644511,\n",
            "       0.21407307, 0.18196764, 0.16421526, 0.16885887, 0.16270444,\n",
            "       0.17188053, 0.15734983, 0.16652598, 0.20749642, 0.23813543,\n",
            "       0.20669659, 0.21391753, 0.21887223, 0.23698011, 0.27892822,\n",
            "       0.28730448, 0.2775507 , 0.25882064, 0.24646729, 0.25428816,\n",
            "       0.27068519, 0.3042348 , 0.30854515, 0.31365539, 0.30714538,\n",
            "       0.32551994, 0.33436277, 0.30067986, 0.31527728, 0.27299591,\n",
            "       0.27863937, 0.28592696, 0.31316658, 0.30403484, 0.285016  ,\n",
            "       0.2841717 , 0.284305  , 0.27759511, 0.30456806, 0.3147663 ,\n",
            "       0.31716585, 0.33380731, 0.3376511 , 0.33285194, 0.32698635,\n",
            "       0.33567364, 0.33109668, 0.33220759, 0.313211  , 0.3225427 ,\n",
            "       0.32238715, 0.31634378, 0.30416814, 0.2925702 , 0.27530663,\n",
            "       0.27612869, 0.2651751 , 0.24164596, 0.20769644, 0.24802259,\n",
            "       0.23618021, 0.24875577, 0.2389575 , 0.23629135, 0.24202363,\n",
            "       0.26113136, 0.2609314 , 0.22002755, 0.18403393, 0.19238802,\n",
            "       0.19407663, 0.18701123, 0.18816656, 0.19618732, 0.19487645,\n",
            "       0.19474315, 0.18674456, 0.16481513, 0.16468183, 0.15832743,\n",
            "       0.1626822 , 0.16163794, 0.16757024, 0.17836829, 0.15848291,\n",
            "       0.16901442, 0.18594473, 0.17221386, 0.17068079, 0.1714362 ,\n",
            "       0.17507996, 0.22124953, 0.26926326, 0.30032443, 0.28872648,\n",
            "       0.32865272, 0.32200941, 0.32123176, 0.33567364, 0.34378336,\n",
            "       0.34082829, 0.3539593 , 0.36584609, 0.38753115, 0.38475386,\n",
            "       0.35364828, 0.35946946, 0.33325185, 0.35262619, 0.34578299,\n",
            "       0.35142645, 0.33560699, 0.32931924, 0.35753648, 0.34844915,\n",
            "       0.34098384, 0.33820655, 0.32249822, 0.30843408, 0.2669303 ,\n",
            "       0.28290524, 0.2852382 , 0.30165747, 0.2982359 , 0.31085587,\n",
            "       0.33034127, 0.34158371, 0.30281286, 0.31847672, 0.30221292,\n",
            "       0.28210541, 0.27563989, 0.26346425, 0.2610203 , 0.27766176,\n",
            "       0.27368467, 0.27475117, 0.28508266, 0.29250355, 0.30958941,\n",
            "       0.32458674, 0.34036173, 0.35469247, 0.37042305, 0.37442231,\n",
            "       0.37622199, 0.37113405, 0.36495737, 0.35060432, 0.37622199,\n",
            "       0.38690897, 0.399529  , 0.39935122, 0.40332831, 0.38253204,\n",
            "       0.38113227, 0.39870694, 0.40648333, 0.40255065, 0.40521687,\n",
            "       0.42341364, 0.4341228 , 0.44347674, 0.45018664, 0.44169924])]\n",
            "[0.4531417043452224]\n",
            "\n",
            "[array([0.06845449, 0.10311501, 0.09884907, 0.09724936, 0.08849535,\n",
            "       0.07272043, 0.10175966, 0.11258002, 0.12922148, 0.13442055,\n",
            "       0.15232847, 0.16459294, 0.17408018, 0.18250086, 0.20407485,\n",
            "       0.20747424, 0.25204409, 0.25968719, 0.2519552 , 0.22735956,\n",
            "       0.2612869 , 0.26841895, 0.26617488, 0.27975028, 0.30619001,\n",
            "       0.30194632, 0.31289991, 0.31567719, 0.31030041, 0.29134822,\n",
            "       0.32285372, 0.34529419, 0.38959743, 0.4192366 , 0.43496711,\n",
            "       0.34722717, 0.34967119, 0.3252755 , 0.28850429, 0.33667349,\n",
            "       0.34391667, 0.33111892, 0.34353893, 0.3121445 , 0.29961342,\n",
            "       0.2968139 , 0.33451831, 0.37202277, 0.37944366, 0.39157482,\n",
            "       0.36691252, 0.33518483, 0.30392377, 0.31716585, 0.33738449,\n",
            "       0.30527906, 0.30801193, 0.28610468, 0.29130374, 0.26912995,\n",
            "       0.26117577, 0.27672856, 0.2918592 , 0.31058926, 0.3061456 ,\n",
            "       0.27855048, 0.30110201, 0.3043681 , 0.33502936, 0.32825274,\n",
            "       0.35171523, 0.36913435, 0.36355761, 0.3534705 , 0.34964895,\n",
            "       0.31976541, 0.3186545 , 0.31023376, 0.30605671, 0.28968185,\n",
            "       0.29528083, 0.29639175, 0.27128513, 0.2322476 , 0.24644511,\n",
            "       0.21407307, 0.18196764, 0.16421526, 0.16885887, 0.16270444,\n",
            "       0.17188053, 0.15734983, 0.16652598, 0.20749642, 0.23813543,\n",
            "       0.20669659, 0.21391753, 0.21887223, 0.23698011, 0.27892822,\n",
            "       0.28730448, 0.2775507 , 0.25882064, 0.24646729, 0.25428816,\n",
            "       0.27068519, 0.3042348 , 0.30854515, 0.31365539, 0.30714538,\n",
            "       0.32551994, 0.33436277, 0.30067986, 0.31527728, 0.27299591,\n",
            "       0.27863937, 0.28592696, 0.31316658, 0.30403484, 0.285016  ,\n",
            "       0.2841717 , 0.284305  , 0.27759511, 0.30456806, 0.3147663 ,\n",
            "       0.31716585, 0.33380731, 0.3376511 , 0.33285194, 0.32698635,\n",
            "       0.33567364, 0.33109668, 0.33220759, 0.313211  , 0.3225427 ,\n",
            "       0.32238715, 0.31634378, 0.30416814, 0.2925702 , 0.27530663,\n",
            "       0.27612869, 0.2651751 , 0.24164596, 0.20769644, 0.24802259,\n",
            "       0.23618021, 0.24875577, 0.2389575 , 0.23629135, 0.24202363,\n",
            "       0.26113136, 0.2609314 , 0.22002755, 0.18403393, 0.19238802,\n",
            "       0.19407663, 0.18701123, 0.18816656, 0.19618732, 0.19487645,\n",
            "       0.19474315, 0.18674456, 0.16481513, 0.16468183, 0.15832743,\n",
            "       0.1626822 , 0.16163794, 0.16757024, 0.17836829, 0.15848291,\n",
            "       0.16901442, 0.18594473, 0.17221386, 0.17068079, 0.1714362 ,\n",
            "       0.17507996, 0.22124953, 0.26926326, 0.30032443, 0.28872648,\n",
            "       0.32865272, 0.32200941, 0.32123176, 0.33567364, 0.34378336,\n",
            "       0.34082829, 0.3539593 , 0.36584609, 0.38753115, 0.38475386,\n",
            "       0.35364828, 0.35946946, 0.33325185, 0.35262619, 0.34578299,\n",
            "       0.35142645, 0.33560699, 0.32931924, 0.35753648, 0.34844915,\n",
            "       0.34098384, 0.33820655, 0.32249822, 0.30843408, 0.2669303 ,\n",
            "       0.28290524, 0.2852382 , 0.30165747, 0.2982359 , 0.31085587,\n",
            "       0.33034127, 0.34158371, 0.30281286, 0.31847672, 0.30221292,\n",
            "       0.28210541, 0.27563989, 0.26346425, 0.2610203 , 0.27766176,\n",
            "       0.27368467, 0.27475117, 0.28508266, 0.29250355, 0.30958941,\n",
            "       0.32458674, 0.34036173, 0.35469247, 0.37042305, 0.37442231,\n",
            "       0.37622199, 0.37113405, 0.36495737, 0.35060432, 0.37622199,\n",
            "       0.38690897, 0.399529  , 0.39935122, 0.40332831, 0.38253204,\n",
            "       0.38113227, 0.39870694, 0.40648333, 0.40255065, 0.40521687,\n",
            "       0.42341364, 0.4341228 , 0.44347674, 0.45018664, 0.44169924]), array([0.10311501, 0.09884907, 0.09724936, 0.08849535, 0.07272043,\n",
            "       0.10175966, 0.11258002, 0.12922148, 0.13442055, 0.15232847,\n",
            "       0.16459294, 0.17408018, 0.18250086, 0.20407485, 0.20747424,\n",
            "       0.25204409, 0.25968719, 0.2519552 , 0.22735956, 0.2612869 ,\n",
            "       0.26841895, 0.26617488, 0.27975028, 0.30619001, 0.30194632,\n",
            "       0.31289991, 0.31567719, 0.31030041, 0.29134822, 0.32285372,\n",
            "       0.34529419, 0.38959743, 0.4192366 , 0.43496711, 0.34722717,\n",
            "       0.34967119, 0.3252755 , 0.28850429, 0.33667349, 0.34391667,\n",
            "       0.33111892, 0.34353893, 0.3121445 , 0.29961342, 0.2968139 ,\n",
            "       0.33451831, 0.37202277, 0.37944366, 0.39157482, 0.36691252,\n",
            "       0.33518483, 0.30392377, 0.31716585, 0.33738449, 0.30527906,\n",
            "       0.30801193, 0.28610468, 0.29130374, 0.26912995, 0.26117577,\n",
            "       0.27672856, 0.2918592 , 0.31058926, 0.3061456 , 0.27855048,\n",
            "       0.30110201, 0.3043681 , 0.33502936, 0.32825274, 0.35171523,\n",
            "       0.36913435, 0.36355761, 0.3534705 , 0.34964895, 0.31976541,\n",
            "       0.3186545 , 0.31023376, 0.30605671, 0.28968185, 0.29528083,\n",
            "       0.29639175, 0.27128513, 0.2322476 , 0.24644511, 0.21407307,\n",
            "       0.18196764, 0.16421526, 0.16885887, 0.16270444, 0.17188053,\n",
            "       0.15734983, 0.16652598, 0.20749642, 0.23813543, 0.20669659,\n",
            "       0.21391753, 0.21887223, 0.23698011, 0.27892822, 0.28730448,\n",
            "       0.2775507 , 0.25882064, 0.24646729, 0.25428816, 0.27068519,\n",
            "       0.3042348 , 0.30854515, 0.31365539, 0.30714538, 0.32551994,\n",
            "       0.33436277, 0.30067986, 0.31527728, 0.27299591, 0.27863937,\n",
            "       0.28592696, 0.31316658, 0.30403484, 0.285016  , 0.2841717 ,\n",
            "       0.284305  , 0.27759511, 0.30456806, 0.3147663 , 0.31716585,\n",
            "       0.33380731, 0.3376511 , 0.33285194, 0.32698635, 0.33567364,\n",
            "       0.33109668, 0.33220759, 0.313211  , 0.3225427 , 0.32238715,\n",
            "       0.31634378, 0.30416814, 0.2925702 , 0.27530663, 0.27612869,\n",
            "       0.2651751 , 0.24164596, 0.20769644, 0.24802259, 0.23618021,\n",
            "       0.24875577, 0.2389575 , 0.23629135, 0.24202363, 0.26113136,\n",
            "       0.2609314 , 0.22002755, 0.18403393, 0.19238802, 0.19407663,\n",
            "       0.18701123, 0.18816656, 0.19618732, 0.19487645, 0.19474315,\n",
            "       0.18674456, 0.16481513, 0.16468183, 0.15832743, 0.1626822 ,\n",
            "       0.16163794, 0.16757024, 0.17836829, 0.15848291, 0.16901442,\n",
            "       0.18594473, 0.17221386, 0.17068079, 0.1714362 , 0.17507996,\n",
            "       0.22124953, 0.26926326, 0.30032443, 0.28872648, 0.32865272,\n",
            "       0.32200941, 0.32123176, 0.33567364, 0.34378336, 0.34082829,\n",
            "       0.3539593 , 0.36584609, 0.38753115, 0.38475386, 0.35364828,\n",
            "       0.35946946, 0.33325185, 0.35262619, 0.34578299, 0.35142645,\n",
            "       0.33560699, 0.32931924, 0.35753648, 0.34844915, 0.34098384,\n",
            "       0.33820655, 0.32249822, 0.30843408, 0.2669303 , 0.28290524,\n",
            "       0.2852382 , 0.30165747, 0.2982359 , 0.31085587, 0.33034127,\n",
            "       0.34158371, 0.30281286, 0.31847672, 0.30221292, 0.28210541,\n",
            "       0.27563989, 0.26346425, 0.2610203 , 0.27766176, 0.27368467,\n",
            "       0.27475117, 0.28508266, 0.29250355, 0.30958941, 0.32458674,\n",
            "       0.34036173, 0.35469247, 0.37042305, 0.37442231, 0.37622199,\n",
            "       0.37113405, 0.36495737, 0.35060432, 0.37622199, 0.38690897,\n",
            "       0.399529  , 0.39935122, 0.40332831, 0.38253204, 0.38113227,\n",
            "       0.39870694, 0.40648333, 0.40255065, 0.40521687, 0.42341364,\n",
            "       0.4341228 , 0.44347674, 0.45018664, 0.44169924, 0.4531417 ])]\n",
            "[0.4531417043452224, 0.4662282318660671]\n",
            "\n"
          ],
          "name": "stdout"
        }
      ]
    },
    {
      "cell_type": "code",
      "metadata": {
        "id": "nXetalEMoGQE",
        "colab": {
          "base_uri": "https://localhost:8080/"
        },
        "outputId": "40425cc1-cbad-42d8-d640-afd97210c252"
      },
      "source": [
        "x_train,y_train =np.array(x_train),np.array(y_train)\n",
        "x_train = np.reshape(x_train,(x_train.shape[0],x_train.shape[1],1))\n",
        "x_train.shape"
      ],
      "execution_count": null,
      "outputs": [
        {
          "output_type": "execute_result",
          "data": {
            "text/plain": [
              "(1322, 250, 1)"
            ]
          },
          "metadata": {
            "tags": []
          },
          "execution_count": 266
        }
      ]
    },
    {
      "cell_type": "code",
      "metadata": {
        "id": "4Coc3r9MoIGo"
      },
      "source": [
        "from keras.models import Sequential \n",
        "from keras.layers import Dense, Activation \n",
        "from keras.layers import LSTM"
      ],
      "execution_count": null,
      "outputs": []
    },
    {
      "cell_type": "code",
      "metadata": {
        "id": "Dr-mgJRXoJ2w"
      },
      "source": [
        "model =Sequential()\n",
        "model.add(LSTM(50,return_sequences=True,input_shape=(x_train.shape[1],1)))\n",
        "model.add(LSTM(50,return_sequences=False))\n",
        "model.add(Dense(25))\n",
        "model.add(Dense(1))"
      ],
      "execution_count": null,
      "outputs": []
    },
    {
      "cell_type": "code",
      "metadata": {
        "id": "xlaJ5ip1oK-r"
      },
      "source": [
        "model.compile(optimizer='adam',loss='mean_squared_error',metrics=['accuracy'])\n"
      ],
      "execution_count": null,
      "outputs": []
    },
    {
      "cell_type": "code",
      "metadata": {
        "id": "s-rqXZpxoMLj",
        "colab": {
          "base_uri": "https://localhost:8080/"
        },
        "outputId": "5bec5816-3350-4286-92ea-f3661fbce904"
      },
      "source": [
        "model.fit(x_train, y_train, batch_size=10,epochs=4)\n"
      ],
      "execution_count": null,
      "outputs": [
        {
          "output_type": "stream",
          "text": [
            "Epoch 1/4\n",
            "133/133 [==============================] - 5s 17ms/step - loss: 0.0298 - accuracy: 7.9272e-04\n",
            "Epoch 2/4\n",
            "133/133 [==============================] - 2s 15ms/step - loss: 0.0022 - accuracy: 1.5357e-04\n",
            "Epoch 3/4\n",
            "133/133 [==============================] - 2s 15ms/step - loss: 0.0020 - accuracy: 1.0095e-04\n",
            "Epoch 4/4\n",
            "133/133 [==============================] - 2s 15ms/step - loss: 0.0016 - accuracy: 6.2140e-04\n"
          ],
          "name": "stdout"
        },
        {
          "output_type": "execute_result",
          "data": {
            "text/plain": [
              "<keras.callbacks.History at 0x7f8bd717d090>"
            ]
          },
          "metadata": {
            "tags": []
          },
          "execution_count": 270
        }
      ]
    },
    {
      "cell_type": "code",
      "metadata": {
        "id": "KWl9LZg7oNb2"
      },
      "source": [
        "test_data = scaled_data[training_data_len -250 :,:]\n",
        "x_test = []\n",
        "y_test = dataset[training_data_len:,:]\n",
        "for i in range(250, len(test_data)):\n",
        "  x_test.append(test_data[i-250:i,0])\n"
      ],
      "execution_count": null,
      "outputs": []
    },
    {
      "cell_type": "code",
      "metadata": {
        "id": "ORsJ6ZQOoSjp"
      },
      "source": [
        "x_test = np.array(x_test)\n"
      ],
      "execution_count": null,
      "outputs": []
    },
    {
      "cell_type": "code",
      "metadata": {
        "id": "KqrIw9JqoWpe"
      },
      "source": [
        "x_test = np.reshape(x_test,(x_test.shape[0], x_test.shape[1],1))\n"
      ],
      "execution_count": null,
      "outputs": []
    },
    {
      "cell_type": "code",
      "metadata": {
        "id": "saES1yKFoX9P",
        "colab": {
          "base_uri": "https://localhost:8080/"
        },
        "outputId": "3f549d01-b724-49cd-b40c-b0de4a4281f1"
      },
      "source": [
        "predictions = model.predict(x_test)\n",
        "predictions = scaler.inverse_transform(predictions)\n",
        "print(predictions)\n"
      ],
      "execution_count": null,
      "outputs": [
        {
          "output_type": "stream",
          "text": [
            "[[244.77087]\n",
            " [245.24542]\n",
            " [247.78442]\n",
            " [251.8198 ]\n",
            " [255.94072]\n",
            " [260.3811 ]\n",
            " [263.25055]\n",
            " [265.40906]\n",
            " [267.1752 ]\n",
            " [268.0098 ]\n",
            " [267.6943 ]\n",
            " [266.8898 ]\n",
            " [266.83673]\n",
            " [266.99115]\n",
            " [267.72992]\n",
            " [268.78116]\n",
            " [271.16437]\n",
            " [274.55667]\n",
            " [277.2352 ]\n",
            " [278.49524]\n",
            " [278.80032]\n",
            " [277.88538]\n",
            " [276.57434]\n",
            " [274.47723]\n",
            " [272.9398 ]\n",
            " [271.124  ]\n",
            " [269.31555]\n",
            " [266.92178]\n",
            " [263.93237]\n",
            " [261.42355]\n",
            " [259.38568]\n",
            " [257.6936 ]\n",
            " [256.4422 ]\n",
            " [255.4723 ]\n",
            " [254.92801]\n",
            " [255.32143]\n",
            " [256.45984]\n",
            " [257.19937]\n",
            " [258.24725]\n",
            " [258.57047]\n",
            " [257.65674]\n",
            " [257.33188]\n",
            " [257.31522]\n",
            " [257.5578 ]\n",
            " [258.0935 ]\n",
            " [259.40637]\n",
            " [260.98874]\n",
            " [263.24963]\n",
            " [267.85477]\n",
            " [272.80627]\n",
            " [278.9544 ]\n",
            " [284.20685]\n",
            " [288.5813 ]\n",
            " [291.64572]\n",
            " [294.38254]\n",
            " [297.84967]\n",
            " [300.32175]\n",
            " [302.69284]\n",
            " [305.9109 ]\n",
            " [306.8771 ]\n",
            " [305.1073 ]\n",
            " [302.38672]\n",
            " [299.09244]\n",
            " [297.39584]\n",
            " [297.42505]\n",
            " [298.17444]\n",
            " [298.54333]\n",
            " [298.46466]\n",
            " [299.39   ]\n",
            " [300.166  ]\n",
            " [301.51385]\n",
            " [302.73526]\n",
            " [303.9159 ]\n",
            " [304.38437]\n",
            " [302.90656]\n",
            " [300.80734]\n",
            " [298.6092 ]\n",
            " [295.8877 ]\n",
            " [292.29062]\n",
            " [288.49536]\n",
            " [285.55212]\n",
            " [284.2258 ]\n",
            " [283.0552 ]\n",
            " [280.52646]\n",
            " [277.50488]\n",
            " [274.53073]\n",
            " [271.06805]\n",
            " [268.88974]\n",
            " [266.55118]\n",
            " [264.8045 ]\n",
            " [263.62628]\n",
            " [264.15744]\n",
            " [265.14413]\n",
            " [266.2869 ]\n",
            " [265.50345]\n",
            " [265.07565]\n",
            " [264.35638]\n",
            " [265.90915]\n",
            " [265.84863]\n",
            " [265.43677]\n",
            " [264.76697]\n",
            " [265.0756 ]\n",
            " [264.42575]\n",
            " [263.48026]\n",
            " [262.37396]\n",
            " [260.64368]\n",
            " [258.86795]\n",
            " [256.4013 ]\n",
            " [253.75562]\n",
            " [254.17265]\n",
            " [256.69565]\n",
            " [261.24692]\n",
            " [266.9531 ]\n",
            " [272.4802 ]\n",
            " [278.6757 ]\n",
            " [282.99603]\n",
            " [285.8633 ]\n",
            " [287.002  ]\n",
            " [286.23816]\n",
            " [284.58667]\n",
            " [283.44135]\n",
            " [282.8364 ]\n",
            " [283.37985]\n",
            " [283.94476]\n",
            " [283.78506]\n",
            " [283.88605]\n",
            " [283.3737 ]\n",
            " [283.23746]\n",
            " [283.70322]\n",
            " [283.64304]\n",
            " [283.68695]\n",
            " [283.47922]\n",
            " [283.52414]\n",
            " [283.01312]\n",
            " [281.98703]\n",
            " [280.17682]\n",
            " [278.21973]\n",
            " [276.25458]\n",
            " [275.61844]\n",
            " [276.26892]\n",
            " [278.05972]\n",
            " [280.24094]\n",
            " [282.42633]\n",
            " [284.8376 ]\n",
            " [288.2221 ]\n",
            " [290.5253 ]\n",
            " [291.73022]\n",
            " [292.37396]\n",
            " [292.74124]\n",
            " [292.54742]\n",
            " [292.49698]\n",
            " [292.62204]\n",
            " [293.3601 ]\n",
            " [293.36536]\n",
            " [292.65067]\n",
            " [292.69702]\n",
            " [292.79333]\n",
            " [294.32828]\n",
            " [296.2627 ]\n",
            " [298.2115 ]\n",
            " [299.47238]\n",
            " [299.87936]\n",
            " [299.99994]\n",
            " [300.13727]\n",
            " [299.31662]\n",
            " [297.8154 ]\n",
            " [295.79178]\n",
            " [293.45105]\n",
            " [290.72916]\n",
            " [288.4479 ]\n",
            " [286.27167]\n",
            " [283.92606]\n",
            " [281.7378 ]\n",
            " [280.9961 ]\n",
            " [281.9708 ]\n",
            " [282.2707 ]\n",
            " [282.31726]\n",
            " [282.354  ]\n",
            " [283.0477 ]\n",
            " [283.68616]\n",
            " [284.0439 ]\n",
            " [283.39807]\n",
            " [281.62082]\n",
            " [278.29617]\n",
            " [274.08728]\n",
            " [269.55713]\n",
            " [265.90894]\n",
            " [263.85275]\n",
            " [262.90958]\n",
            " [263.16223]\n",
            " [263.91815]\n",
            " [264.35663]\n",
            " [264.84973]\n",
            " [265.5112 ]\n",
            " [266.74426]\n",
            " [268.59955]\n",
            " [270.7626 ]\n",
            " [273.34595]\n",
            " [275.691  ]\n",
            " [278.53433]\n",
            " [281.09857]\n",
            " [284.12112]\n",
            " [286.67725]\n",
            " [289.6417 ]\n",
            " [292.37323]\n",
            " [295.21378]\n",
            " [297.74078]\n",
            " [298.81424]\n",
            " [298.40143]\n",
            " [298.75436]\n",
            " [300.05768]\n",
            " [303.17157]\n",
            " [307.2245 ]\n",
            " [312.1605 ]\n",
            " [315.4076 ]\n",
            " [317.68063]\n",
            " [318.2855 ]\n",
            " [317.29095]\n",
            " [315.93173]\n",
            " [313.84995]\n",
            " [312.3557 ]\n",
            " [311.317  ]\n",
            " [310.70636]\n",
            " [310.43094]\n",
            " [309.59445]\n",
            " [308.57788]\n",
            " [306.86533]\n",
            " [305.9965 ]\n",
            " [304.86084]\n",
            " [304.85043]\n",
            " [304.92145]\n",
            " [304.82547]\n",
            " [305.00378]\n",
            " [305.08047]\n",
            " [304.6112 ]\n",
            " [302.85706]\n",
            " [300.96973]\n",
            " [300.60175]\n",
            " [300.73416]\n",
            " [302.3852 ]\n",
            " [304.09158]\n",
            " [306.25732]\n",
            " [308.8691 ]\n",
            " [315.36423]\n",
            " [321.38425]\n",
            " [327.07553]\n",
            " [331.88052]\n",
            " [337.61905]\n",
            " [343.72153]\n",
            " [348.6714 ]\n",
            " [350.40216]\n",
            " [351.2028 ]\n",
            " [350.99786]\n",
            " [350.7178 ]\n",
            " [349.78503]\n",
            " [346.1181 ]\n",
            " [342.74265]\n",
            " [340.1747 ]\n",
            " [338.7723 ]\n",
            " [337.61227]\n",
            " [337.26178]\n",
            " [336.91275]\n",
            " [335.74408]\n",
            " [334.84412]\n",
            " [333.97528]\n",
            " [334.32394]\n",
            " [335.8287 ]\n",
            " [338.28665]\n",
            " [341.39566]\n",
            " [344.61862]\n",
            " [348.0799 ]\n",
            " [350.92444]\n",
            " [353.09915]\n",
            " [355.06317]\n",
            " [356.7944 ]\n",
            " [358.2823 ]\n",
            " [359.8982 ]\n",
            " [358.6851 ]\n",
            " [357.24106]\n",
            " [354.8377 ]\n",
            " [353.86545]\n",
            " [353.57797]\n",
            " [353.09814]\n",
            " [353.40494]\n",
            " [355.30612]\n",
            " [356.12793]\n",
            " [355.26215]\n",
            " [352.99075]\n",
            " [348.99823]\n",
            " [344.4492 ]\n",
            " [340.57132]\n",
            " [337.7509 ]\n",
            " [336.06573]\n",
            " [332.57172]\n",
            " [329.83072]\n",
            " [325.32776]\n",
            " [319.52567]\n",
            " [312.75345]\n",
            " [306.78528]\n",
            " [300.2323 ]\n",
            " [295.254  ]\n",
            " [291.25635]\n",
            " [287.21466]\n",
            " [284.90103]\n",
            " [283.9258 ]\n",
            " [283.23663]\n",
            " [282.46417]\n",
            " [280.90582]\n",
            " [277.94882]\n",
            " [275.1862 ]\n",
            " [274.19675]\n",
            " [274.97452]\n",
            " [276.44296]\n",
            " [276.5986 ]\n",
            " [276.1322 ]\n",
            " [274.58212]\n",
            " [273.7266 ]\n",
            " [272.95926]\n",
            " [272.4691 ]\n",
            " [272.7858 ]\n",
            " [274.5202 ]\n",
            " [276.9696 ]\n",
            " [280.18805]\n",
            " [282.2825 ]\n",
            " [281.98932]\n",
            " [281.58224]\n",
            " [280.04547]\n",
            " [282.36163]\n",
            " [287.81012]\n",
            " [292.36057]\n",
            " [292.59933]\n",
            " [291.13248]\n",
            " [288.74173]\n",
            " [284.5384 ]\n",
            " [277.84122]\n",
            " [270.67038]\n",
            " [263.55432]\n",
            " [257.3206 ]\n",
            " [254.07065]\n",
            " [251.72153]\n",
            " [250.39594]\n",
            " [249.97942]\n",
            " [250.58595]\n",
            " [251.35582]\n",
            " [253.54372]\n",
            " [256.7553 ]\n",
            " [260.24622]\n",
            " [264.19885]\n",
            " [265.96   ]\n",
            " [269.28214]\n",
            " [272.58624]\n",
            " [276.8478 ]\n",
            " [284.33047]\n",
            " [292.42374]\n",
            " [299.88605]\n",
            " [306.72702]\n",
            " [311.8816 ]\n",
            " [315.4634 ]\n",
            " [317.24918]\n",
            " [318.1264 ]\n",
            " [316.41248]\n",
            " [313.5914 ]\n",
            " [313.02594]\n",
            " [313.83313]\n",
            " [316.03223]\n",
            " [318.3076 ]\n",
            " [320.7707 ]\n",
            " [322.60678]\n",
            " [324.99667]\n",
            " [327.08136]\n",
            " [330.02676]\n",
            " [333.7528 ]\n",
            " [336.0095 ]\n",
            " [336.79163]\n",
            " [336.3626 ]\n",
            " [336.27765]\n",
            " [335.2815 ]\n",
            " [331.42038]\n",
            " [326.43024]\n",
            " [321.04196]\n",
            " [316.1425 ]\n",
            " [313.63168]\n",
            " [314.2595 ]\n",
            " [316.1861 ]\n",
            " [318.8194 ]\n",
            " [320.55594]\n",
            " [321.95273]\n",
            " [324.5316 ]\n",
            " [326.28238]\n",
            " [327.3345 ]\n",
            " [327.62137]\n",
            " [328.67902]\n",
            " [329.3355 ]]\n"
          ],
          "name": "stdout"
        }
      ]
    },
    {
      "cell_type": "code",
      "metadata": {
        "id": "TmKEEHHXWxDZ"
      },
      "source": [
        "def stats(yTrue,yPred):\n",
        "  accuracy=0\n",
        "  for i in range(len(yTrue)):\n",
        "    if(yTrue[i]-yPred[i]<20 and yTrue[i]-yPred[i]>-20):\n",
        "      accuracy=accuracy+1\n",
        "\n",
        "  accuracy=accuracy/(len(yTrue))\n",
        "\n",
        "  return accuracy"
      ],
      "execution_count": null,
      "outputs": []
    },
    {
      "cell_type": "code",
      "metadata": {
        "id": "yD_GztNioaFL",
        "colab": {
          "base_uri": "https://localhost:8080/",
          "height": 450
        },
        "outputId": "28d98708-e1be-49b5-ee89-289abf2eca6c"
      },
      "source": [
        "rmse = np.sqrt(np.mean(predictions - y_test)**2)\n",
        "rmse"
      ],
      "execution_count": null,
      "outputs": [
        {
          "output_type": "execute_result",
          "data": {
            "text/html": [
              "<div>\n",
              "<style scoped>\n",
              "    .dataframe tbody tr th:only-of-type {\n",
              "        vertical-align: middle;\n",
              "    }\n",
              "\n",
              "    .dataframe tbody tr th {\n",
              "        vertical-align: top;\n",
              "    }\n",
              "\n",
              "    .dataframe thead th {\n",
              "        text-align: right;\n",
              "    }\n",
              "</style>\n",
              "<table border=\"1\" class=\"dataframe\">\n",
              "  <thead>\n",
              "    <tr style=\"text-align: right;\">\n",
              "      <th></th>\n",
              "      <th>Close</th>\n",
              "      <th>Prediction</th>\n",
              "      <th>Predictions</th>\n",
              "    </tr>\n",
              "    <tr>\n",
              "      <th>Date</th>\n",
              "      <th></th>\n",
              "      <th></th>\n",
              "      <th></th>\n",
              "    </tr>\n",
              "  </thead>\n",
              "  <tbody>\n",
              "    <tr>\n",
              "      <th>2018-05-22</th>\n",
              "      <td>253.899994</td>\n",
              "      <td>353.549988</td>\n",
              "      <td>244.770874</td>\n",
              "    </tr>\n",
              "    <tr>\n",
              "      <th>2018-05-23</th>\n",
              "      <td>263.200012</td>\n",
              "      <td>352.500000</td>\n",
              "      <td>245.245422</td>\n",
              "    </tr>\n",
              "    <tr>\n",
              "      <th>2018-05-24</th>\n",
              "      <td>268.500000</td>\n",
              "      <td>355.450012</td>\n",
              "      <td>247.784424</td>\n",
              "    </tr>\n",
              "    <tr>\n",
              "      <th>2018-05-25</th>\n",
              "      <td>266.950012</td>\n",
              "      <td>352.399994</td>\n",
              "      <td>251.819794</td>\n",
              "    </tr>\n",
              "    <tr>\n",
              "      <th>2018-05-28</th>\n",
              "      <td>272.049988</td>\n",
              "      <td>336.899994</td>\n",
              "      <td>255.940720</td>\n",
              "    </tr>\n",
              "    <tr>\n",
              "      <th>...</th>\n",
              "      <td>...</td>\n",
              "      <td>...</td>\n",
              "      <td>...</td>\n",
              "    </tr>\n",
              "    <tr>\n",
              "      <th>2019-12-24</th>\n",
              "      <td>331.450012</td>\n",
              "      <td>NaN</td>\n",
              "      <td>326.282379</td>\n",
              "    </tr>\n",
              "    <tr>\n",
              "      <th>2019-12-26</th>\n",
              "      <td>329.850006</td>\n",
              "      <td>NaN</td>\n",
              "      <td>327.334503</td>\n",
              "    </tr>\n",
              "    <tr>\n",
              "      <th>2019-12-27</th>\n",
              "      <td>337.250000</td>\n",
              "      <td>NaN</td>\n",
              "      <td>327.621368</td>\n",
              "    </tr>\n",
              "    <tr>\n",
              "      <th>2019-12-30</th>\n",
              "      <td>334.399994</td>\n",
              "      <td>NaN</td>\n",
              "      <td>328.679016</td>\n",
              "    </tr>\n",
              "    <tr>\n",
              "      <th>2019-12-31</th>\n",
              "      <td>333.750000</td>\n",
              "      <td>NaN</td>\n",
              "      <td>329.335510</td>\n",
              "    </tr>\n",
              "  </tbody>\n",
              "</table>\n",
              "<p>393 rows × 3 columns</p>\n",
              "</div>"
            ],
            "text/plain": [
              "                 Close  Prediction  Predictions\n",
              "Date                                           \n",
              "2018-05-22  253.899994  353.549988   244.770874\n",
              "2018-05-23  263.200012  352.500000   245.245422\n",
              "2018-05-24  268.500000  355.450012   247.784424\n",
              "2018-05-25  266.950012  352.399994   251.819794\n",
              "2018-05-28  272.049988  336.899994   255.940720\n",
              "...                ...         ...          ...\n",
              "2019-12-24  331.450012         NaN   326.282379\n",
              "2019-12-26  329.850006         NaN   327.334503\n",
              "2019-12-27  337.250000         NaN   327.621368\n",
              "2019-12-30  334.399994         NaN   328.679016\n",
              "2019-12-31  333.750000         NaN   329.335510\n",
              "\n",
              "[393 rows x 3 columns]"
            ]
          },
          "metadata": {
            "tags": []
          },
          "execution_count": 301
        }
      ]
    },
    {
      "cell_type": "code",
      "metadata": {
        "id": "icARf6iBoedt",
        "colab": {
          "base_uri": "https://localhost:8080/",
          "height": 637
        },
        "outputId": "2c7bf268-d9ba-47f1-9099-593eb93f5a30"
      },
      "source": [
        "#LSTM\n",
        "train = df[:training_data_len]\n",
        "valid =  df[training_data_len:]\n",
        "valid['Predictions'] = predictions\n",
        "plt.figure(figsize=(16,8))\n",
        "plt.title('Model')\n",
        "plt.xlabel('Date',fontsize =18)\n",
        "plt.plot(train['Close'])\n",
        "plt.plot(valid[['Close','Predictions']])\n",
        "plt.legend(['Train','Val','Predictions'], loc='lower right')\n",
        "plt.show()\n",
        "stats(valid['Close'],valid['Predictions'])"
      ],
      "execution_count": null,
      "outputs": [
        {
          "output_type": "stream",
          "text": [
            "/usr/local/lib/python3.7/dist-packages/ipykernel_launcher.py:4: SettingWithCopyWarning: \n",
            "A value is trying to be set on a copy of a slice from a DataFrame.\n",
            "Try using .loc[row_indexer,col_indexer] = value instead\n",
            "\n",
            "See the caveats in the documentation: https://pandas.pydata.org/pandas-docs/stable/user_guide/indexing.html#returning-a-view-versus-a-copy\n",
            "  after removing the cwd from sys.path.\n"
          ],
          "name": "stderr"
        },
        {
          "output_type": "display_data",
          "data": {
            "image/png": "[encoded data removed]",
            "text/plain": [
              "<Figure size 1152x576 with 1 Axes>"
            ]
          },
          "metadata": {
            "tags": [],
            "needs_background": "light"
          }
        },
        {
          "output_type": "execute_result",
          "data": {
            "text/plain": [
              "0.9516539440203562"
            ]
          },
          "metadata": {
            "tags": []
          },
          "execution_count": 307
        }
      ]
    },
    {
      "cell_type": "code",
      "metadata": {
        "id": "EUSTbP-Xon--",
        "colab": {
          "base_uri": "https://localhost:8080/",
          "height": 450
        },
        "outputId": "e7e1c9cd-56e9-4aae-85f5-65a1f4f318e2"
      },
      "source": [
        "valid\n"
      ],
      "execution_count": null,
      "outputs": [
        {
          "output_type": "execute_result",
          "data": {
            "text/html": [
              "<div>\n",
              "<style scoped>\n",
              "    .dataframe tbody tr th:only-of-type {\n",
              "        vertical-align: middle;\n",
              "    }\n",
              "\n",
              "    .dataframe tbody tr th {\n",
              "        vertical-align: top;\n",
              "    }\n",
              "\n",
              "    .dataframe thead th {\n",
              "        text-align: right;\n",
              "    }\n",
              "</style>\n",
              "<table border=\"1\" class=\"dataframe\">\n",
              "  <thead>\n",
              "    <tr style=\"text-align: right;\">\n",
              "      <th></th>\n",
              "      <th>Close</th>\n",
              "      <th>Prediction</th>\n",
              "      <th>Predictions</th>\n",
              "    </tr>\n",
              "    <tr>\n",
              "      <th>Date</th>\n",
              "      <th></th>\n",
              "      <th></th>\n",
              "      <th></th>\n",
              "    </tr>\n",
              "  </thead>\n",
              "  <tbody>\n",
              "    <tr>\n",
              "      <th>2018-05-22</th>\n",
              "      <td>253.899994</td>\n",
              "      <td>353.549988</td>\n",
              "      <td>244.770874</td>\n",
              "    </tr>\n",
              "    <tr>\n",
              "      <th>2018-05-23</th>\n",
              "      <td>263.200012</td>\n",
              "      <td>352.500000</td>\n",
              "      <td>245.245422</td>\n",
              "    </tr>\n",
              "    <tr>\n",
              "      <th>2018-05-24</th>\n",
              "      <td>268.500000</td>\n",
              "      <td>355.450012</td>\n",
              "      <td>247.784424</td>\n",
              "    </tr>\n",
              "    <tr>\n",
              "      <th>2018-05-25</th>\n",
              "      <td>266.950012</td>\n",
              "      <td>352.399994</td>\n",
              "      <td>251.819794</td>\n",
              "    </tr>\n",
              "    <tr>\n",
              "      <th>2018-05-28</th>\n",
              "      <td>272.049988</td>\n",
              "      <td>336.899994</td>\n",
              "      <td>255.940720</td>\n",
              "    </tr>\n",
              "    <tr>\n",
              "      <th>...</th>\n",
              "      <td>...</td>\n",
              "      <td>...</td>\n",
              "      <td>...</td>\n",
              "    </tr>\n",
              "    <tr>\n",
              "      <th>2019-12-24</th>\n",
              "      <td>331.450012</td>\n",
              "      <td>NaN</td>\n",
              "      <td>326.282379</td>\n",
              "    </tr>\n",
              "    <tr>\n",
              "      <th>2019-12-26</th>\n",
              "      <td>329.850006</td>\n",
              "      <td>NaN</td>\n",
              "      <td>327.334503</td>\n",
              "    </tr>\n",
              "    <tr>\n",
              "      <th>2019-12-27</th>\n",
              "      <td>337.250000</td>\n",
              "      <td>NaN</td>\n",
              "      <td>327.621368</td>\n",
              "    </tr>\n",
              "    <tr>\n",
              "      <th>2019-12-30</th>\n",
              "      <td>334.399994</td>\n",
              "      <td>NaN</td>\n",
              "      <td>328.679016</td>\n",
              "    </tr>\n",
              "    <tr>\n",
              "      <th>2019-12-31</th>\n",
              "      <td>333.750000</td>\n",
              "      <td>NaN</td>\n",
              "      <td>329.335510</td>\n",
              "    </tr>\n",
              "  </tbody>\n",
              "</table>\n",
              "<p>393 rows × 3 columns</p>\n",
              "</div>"
            ],
            "text/plain": [
              "                 Close  Prediction  Predictions\n",
              "Date                                           \n",
              "2018-05-22  253.899994  353.549988   244.770874\n",
              "2018-05-23  263.200012  352.500000   245.245422\n",
              "2018-05-24  268.500000  355.450012   247.784424\n",
              "2018-05-25  266.950012  352.399994   251.819794\n",
              "2018-05-28  272.049988  336.899994   255.940720\n",
              "...                ...         ...          ...\n",
              "2019-12-24  331.450012         NaN   326.282379\n",
              "2019-12-26  329.850006         NaN   327.334503\n",
              "2019-12-27  337.250000         NaN   327.621368\n",
              "2019-12-30  334.399994         NaN   328.679016\n",
              "2019-12-31  333.750000         NaN   329.335510\n",
              "\n",
              "[393 rows x 3 columns]"
            ]
          },
          "metadata": {
            "tags": []
          },
          "execution_count": 278
        }
      ]
    },
    {
      "cell_type": "code",
      "metadata": {
        "id": "OdF81pmIoqgZ"
      },
      "source": [
        "x_train,x_test,y_train,y_test = train_test_split(X,y,test_size = 0.3)\n"
      ],
      "execution_count": null,
      "outputs": []
    },
    {
      "cell_type": "code",
      "metadata": {
        "id": "JrA9COw5oryh"
      },
      "source": [
        "tree = DecisionTreeRegressor().fit(x_train,y_train)\n",
        "lr= LinearRegression().fit(x_train,y_train)\n"
      ],
      "execution_count": null,
      "outputs": []
    },
    {
      "cell_type": "code",
      "metadata": {
        "id": "zrXsLhkjotzy",
        "colab": {
          "base_uri": "https://localhost:8080/"
        },
        "outputId": "2daf7d17-8085-45e4-e19e-d0d9c2e5eed5"
      },
      "source": [
        "x_train.shape\n"
      ],
      "execution_count": null,
      "outputs": [
        {
          "output_type": "execute_result",
          "data": {
            "text/plain": [
              "(1200, 1)"
            ]
          },
          "metadata": {
            "tags": []
          },
          "execution_count": 281
        }
      ]
    },
    {
      "cell_type": "code",
      "metadata": {
        "id": "QpAEj8eGovX8",
        "colab": {
          "base_uri": "https://localhost:8080/"
        },
        "outputId": "94ad2019-2c37-42ce-a50a-290a60b56712"
      },
      "source": [
        "x_f = df.drop(['Prediction'],1)[:-f_d]\n",
        "x_f=x_f.tail(f_d)\n",
        "x_f=np.array(x_f)\n",
        "x_f\n"
      ],
      "execution_count": null,
      "outputs": [
        {
          "output_type": "execute_result",
          "data": {
            "text/plain": [
              "array([[313.29998779],\n",
              "       [314.        ],\n",
              "       [312.25      ],\n",
              "       [318.8999939 ],\n",
              "       [319.79998779],\n",
              "       [317.5       ],\n",
              "       [316.75      ],\n",
              "       [319.8500061 ],\n",
              "       [317.1499939 ],\n",
              "       [314.8500061 ],\n",
              "       [308.3999939 ],\n",
              "       [309.8999939 ],\n",
              "       [307.1000061 ],\n",
              "       [303.25      ],\n",
              "       [302.8500061 ],\n",
              "       [308.5       ],\n",
              "       [306.3500061 ],\n",
              "       [305.79998779],\n",
              "       [304.29998779],\n",
              "       [301.1000061 ],\n",
              "       [302.20001221],\n",
              "       [302.25      ],\n",
              "       [302.6000061 ],\n",
              "       [296.1499939 ],\n",
              "       [307.1000061 ],\n",
              "       [303.25      ],\n",
              "       [309.25      ],\n",
              "       [306.5       ],\n",
              "       [318.1000061 ],\n",
              "       [329.8999939 ],\n",
              "       [313.1499939 ],\n",
              "       [312.1000061 ],\n",
              "       [313.54998779],\n",
              "       [313.25      ],\n",
              "       [306.04998779],\n",
              "       [297.3500061 ],\n",
              "       [298.04998779],\n",
              "       [291.75      ],\n",
              "       [292.79998779],\n",
              "       [301.3999939 ],\n",
              "       [296.3999939 ],\n",
              "       [288.75      ],\n",
              "       [276.20001221],\n",
              "       [278.70001221],\n",
              "       [271.6499939 ],\n",
              "       [268.5       ],\n",
              "       [269.6499939 ],\n",
              "       [273.29998779],\n",
              "       [272.6000061 ],\n",
              "       [276.04998779],\n",
              "       [274.45001221],\n",
              "       [267.6000061 ],\n",
              "       [268.        ],\n",
              "       [262.1499939 ],\n",
              "       [263.5       ],\n",
              "       [256.54998779],\n",
              "       [246.6499939 ],\n",
              "       [256.79998779],\n",
              "       [253.25      ],\n",
              "       [252.8500061 ],\n",
              "       [254.69999695],\n",
              "       [257.04998779],\n",
              "       [253.69999695],\n",
              "       [252.30000305],\n",
              "       [247.94999695],\n",
              "       [249.1000061 ],\n",
              "       [248.        ],\n",
              "       [241.55000305],\n",
              "       [234.80000305],\n",
              "       [246.5       ],\n",
              "       [254.3500061 ],\n",
              "       [249.8999939 ],\n",
              "       [246.1499939 ],\n",
              "       [250.5       ],\n",
              "       [247.30000305],\n",
              "       [259.29998779],\n",
              "       [259.70001221],\n",
              "       [260.6499939 ],\n",
              "       [263.29998779],\n",
              "       [257.04998779],\n",
              "       [253.80000305],\n",
              "       [250.94999695],\n",
              "       [249.        ],\n",
              "       [248.1499939 ],\n",
              "       [246.44999695],\n",
              "       [246.1499939 ],\n",
              "       [241.19999695],\n",
              "       [242.44999695],\n",
              "       [240.6000061 ],\n",
              "       [237.19999695],\n",
              "       [233.19999695],\n",
              "       [242.6000061 ],\n",
              "       [246.3999939 ],\n",
              "       [241.        ],\n",
              "       [241.8999939 ],\n",
              "       [241.94999695],\n",
              "       [246.5       ],\n",
              "       [250.05000305],\n",
              "       [248.        ],\n",
              "       [247.94999695],\n",
              "       [250.3500061 ],\n",
              "       [253.6000061 ],\n",
              "       [248.        ],\n",
              "       [243.1000061 ],\n",
              "       [242.69999695],\n",
              "       [238.8500061 ],\n",
              "       [244.44999695],\n",
              "       [253.8999939 ],\n",
              "       [263.20001221],\n",
              "       [268.5       ],\n",
              "       [266.95001221],\n",
              "       [272.04998779],\n",
              "       [264.29998779],\n",
              "       [267.1499939 ],\n",
              "       [269.54998779],\n",
              "       [266.70001221],\n",
              "       [263.        ],\n",
              "       [263.54998779],\n",
              "       [270.1499939 ],\n",
              "       [269.6499939 ],\n",
              "       [273.        ],\n",
              "       [274.        ],\n",
              "       [282.8500061 ],\n",
              "       [287.70001221],\n",
              "       [282.6000061 ],\n",
              "       [277.45001221],\n",
              "       [276.8500061 ],\n",
              "       [272.6000061 ],\n",
              "       [273.29998779],\n",
              "       [268.6499939 ],\n",
              "       [273.04998779],\n",
              "       [268.45001221],\n",
              "       [267.3999939 ],\n",
              "       [261.70001221],\n",
              "       [257.        ],\n",
              "       [259.3500061 ],\n",
              "       [258.8500061 ],\n",
              "       [257.5       ],\n",
              "       [257.45001221],\n",
              "       [256.45001221],\n",
              "       [257.20001221],\n",
              "       [261.54998779],\n",
              "       [263.75      ],\n",
              "       [259.1000061 ],\n",
              "       [262.75      ],\n",
              "       [257.75      ],\n",
              "       [251.6000061 ],\n",
              "       [259.04998779],\n",
              "       [259.54998779],\n",
              "       [260.20001221],\n",
              "       [261.5       ],\n",
              "       [266.3500061 ],\n",
              "       [266.8500061 ],\n",
              "       [271.8500061 ],\n",
              "       [287.70001221],\n",
              "       [286.75      ],\n",
              "       [297.3999939 ],\n",
              "       [293.5       ],\n",
              "       [295.1000061 ],\n",
              "       [293.8999939 ],\n",
              "       [299.25      ],\n",
              "       [308.5       ],\n",
              "       [304.04998779],\n",
              "       [308.70001221],\n",
              "       [317.3999939 ],\n",
              "       [304.45001221],\n",
              "       [294.1499939 ],\n",
              "       [294.8999939 ],\n",
              "       [292.70001221],\n",
              "       [302.1000061 ],\n",
              "       [307.6499939 ],\n",
              "       [307.        ],\n",
              "       [302.45001221],\n",
              "       [300.45001221],\n",
              "       [308.        ],\n",
              "       [305.3500061 ],\n",
              "       [309.70001221],\n",
              "       [308.6000061 ],\n",
              "       [309.6000061 ],\n",
              "       [306.3500061 ],\n",
              "       [296.3999939 ],\n",
              "       [296.54998779],\n",
              "       [296.45001221],\n",
              "       [291.6499939 ],\n",
              "       [284.8500061 ],\n",
              "       [282.6000061 ],\n",
              "       [285.29998779],\n",
              "       [290.6499939 ],\n",
              "       [285.29998779],\n",
              "       [273.79998779],\n",
              "       [271.5       ],\n",
              "       [270.6000061 ],\n",
              "       [264.3500061 ],\n",
              "       [270.8999939 ],\n",
              "       [263.8500061 ],\n",
              "       [265.3500061 ],\n",
              "       [265.5       ],\n",
              "       [273.8500061 ],\n",
              "       [271.70001221],\n",
              "       [271.3500061 ],\n",
              "       [258.3500061 ],\n",
              "       [265.75      ],\n",
              "       [262.95001221],\n",
              "       [278.6499939 ],\n",
              "       [262.1499939 ],\n",
              "       [263.75      ],\n",
              "       [263.20001221],\n",
              "       [270.29998779],\n",
              "       [261.1499939 ],\n",
              "       [261.1000061 ],\n",
              "       [260.3500061 ],\n",
              "       [255.6499939 ],\n",
              "       [255.69999695],\n",
              "       [249.55000305],\n",
              "       [248.1000061 ],\n",
              "       [267.8999939 ],\n",
              "       [273.1499939 ],\n",
              "       [281.3999939 ],\n",
              "       [285.8999939 ],\n",
              "       [285.3500061 ],\n",
              "       [294.95001221],\n",
              "       [286.45001221],\n",
              "       [286.54998779],\n",
              "       [283.25      ],\n",
              "       [277.95001221],\n",
              "       [278.04998779],\n",
              "       [283.6000061 ],\n",
              "       [285.3999939 ],\n",
              "       [290.8999939 ],\n",
              "       [288.1499939 ],\n",
              "       [283.45001221],\n",
              "       [287.04998779],\n",
              "       [282.70001221],\n",
              "       [286.3999939 ],\n",
              "       [289.3999939 ],\n",
              "       [284.54998779],\n",
              "       [286.3999939 ],\n",
              "       [284.6499939 ],\n",
              "       [286.79998779],\n",
              "       [282.54998779],\n",
              "       [280.1499939 ],\n",
              "       [275.6499939 ],\n",
              "       [275.3999939 ],\n",
              "       [274.20001221],\n",
              "       [281.25      ],\n",
              "       [285.25      ],\n",
              "       [289.        ],\n",
              "       [289.20001221],\n",
              "       [289.5       ],\n",
              "       [292.75      ]])"
            ]
          },
          "metadata": {
            "tags": []
          },
          "execution_count": 282
        }
      ]
    },
    {
      "cell_type": "code",
      "metadata": {
        "id": "d2gbAlaGoycn",
        "colab": {
          "base_uri": "https://localhost:8080/"
        },
        "outputId": "544711e1-eeb8-44ad-df65-7645cf37916e"
      },
      "source": [
        "tree_p =tree.predict(x_f)\n",
        "print(tree_p)\n",
        "print()\n",
        "lr_p=lr.predict(x_f)\n",
        "print(lr_p)\n"
      ],
      "execution_count": null,
      "outputs": [
        {
          "output_type": "stream",
          "text": [
            "[300.70001221 209.55000305 291.8999939  293.04998779 294.1499939\n",
            " 268.54998779 294.79998779 295.42500305 299.6000061  293.8999939\n",
            " 291.1000061  297.6499939  248.06249619 288.04998779 305.29998779\n",
            " 296.19999695 244.6000061  300.3999939  228.8999939  267.1000061\n",
            " 294.95001221 294.95001221 183.3500061  290.25       248.06249619\n",
            " 288.04998779 285.3999939  281.6000061  280.6000061  287.45001221\n",
            " 293.6499939  284.3999939  274.20001221 284.6499939  289.04998779\n",
            " 274.0249939  286.         280.5        333.75       267.1000061\n",
            " 268.45001221 258.8500061  262.8999939  267.70001221 273.3500061\n",
            " 293.7166748  271.375      329.79998779 314.44999695 269.04998779\n",
            " 272.95001221 276.45001221 278.1000061  262.5        281.20001221\n",
            " 287.3500061  277.8500061  264.59999593 254.75       298.3999939\n",
            " 298.95001221 315.75       303.79998779 256.79998779 248.94999695\n",
            " 303.5        314.0249939  319.         322.75       320.55000305\n",
            " 320.5        321.79998779 314.7749939  258.8999939  314.75\n",
            " 282.84999847 314.8999939  315.25       315.6000061  315.75\n",
            " 310.79998779 296.1499939  305.25       310.75       162.11999512\n",
            " 314.7749939  152.16999817 308.1499939  310.         175.84500122\n",
            " 305.45001221 171.96499634 299.29998779 308.04998779 256.79998779\n",
            " 245.92999268 320.55000305 163.61999512 314.0249939  248.94999695\n",
            " 337.54998779 283.375      314.0249939  355.3500061  171.96499634\n",
            " 176.6499939  348.6499939  353.54998779 316.57499695 293.7166748\n",
            " 352.3999939  238.21666463 229.25       344.29998779 268.20001221\n",
            " 344.         346.5        343.79998779 337.8500061  271.375\n",
            " 293.27500916 345.1499939  349.3999939  301.3999939  302.6000061\n",
            " 291.75       309.70001221 314.44999695 329.79998779 364.5\n",
            " 293.27500916 367.3999939  273.75       355.29998779 359.5\n",
            " 354.20001221 314.3500061  363.6000061  363.6000061  287.3500061\n",
            " 332.97499084 311.04998779 318.7749939  331.625      342.20001221\n",
            " 208.82499695 302.125      331.625      343.79998779 254.44999695\n",
            " 311.04998779 317.1499939  273.45001221 300.25       301.3999939\n",
            " 289.8999939  294.3500061  291.3500061  283.3500061  289.75\n",
            " 290.8999939  296.19999695 283.70001221 287.04998779 268.54998779\n",
            " 260.65000153 242.94999695 283.3500061  284.8999939  294.95001221\n",
            " 293.8999939  164.69999695 275.1000061  273.29998779 263.92500305\n",
            " 308.5        217.75       287.04998779 291.70001221 244.6000061\n",
            " 268.45001221 218.1499939  274.04998779 301.70001221 246.29999542\n",
            " 302.6000061  280.25       242.76667277 280.25       270.79998779\n",
            " 264.87499237 254.1499939  249.94999695 226.69999695 260.95001221\n",
            " 254.1499939  254.55000305 255.44999695 258.45001221 256.04998779\n",
            " 314.80000305 236.8999939  270.5        275.45001221 262.5\n",
            " 318.7749939  316.57499695 233.8999939  313.54998779 313.54998779\n",
            " 310.17498779 300.15000407 317.54998779 318.1499939  316.\n",
            " 251.30000305 306.79998779 288.8999939  321.8999939  325.1000061\n",
            " 283.3500061  285.69999695 285.69999695 266.95001221 246.6000061\n",
            " 246.6000061  343.54998779 227.1499939  273.04998779 254.30000305\n",
            " 343.54998779 341.8500061  336.20001221 316.3999939  248.92500305\n",
            " 313.3999939  316.3999939  313.3999939  289.8999939  331.8500061\n",
            " 313.5249939  326.95001221 328.1499939  304.93332926 332.3999939\n",
            " 331.45001221 267.3999939  266.69999695 334.3999939  333.75      ]\n",
            "\n",
            "[259.32260334 259.35594492 259.27259244 259.58933158 259.63219828\n",
            " 259.52264988 259.48692739 259.63458065 259.50597909 259.3964307\n",
            " 259.08921668 259.16066167 259.02729828 258.84392253 258.82487082\n",
            " 259.09397997 258.99157579 258.96537842 258.89393343 258.74151834\n",
            " 258.79391162 258.79629254 258.81296332 258.50574931 259.02729828\n",
            " 258.84392253 259.12970247 258.99871999 259.55122817 260.11326147\n",
            " 259.31545914 259.26544823 259.33451084 259.32022243 258.97728592\n",
            " 258.56290588 258.596246   258.29617764 258.34618855 258.75580676\n",
            " 258.51765681 258.15328767 257.55553188 257.67460686 257.33881456\n",
            " 257.18878038 257.24355458 257.41740375 257.38406363 257.54838622\n",
            " 257.4721794  257.14591368 257.16496539 256.88632965 256.95063043\n",
            " 256.61960142 256.14806481 256.63150892 256.46242304 256.44337133\n",
            " 256.53148638 256.64341642 256.48385639 256.41717469 256.20998394\n",
            " 256.26475887 256.21236559 255.9051523  255.58364987 256.1409206\n",
            " 256.51481631 256.30286228 256.12424982 256.33144056 256.17902474\n",
            " 256.75058389 256.76963705 256.81488467 256.94110385 256.64341642\n",
            " 256.48861968 256.35287391 256.25999558 256.2195098  256.13853896\n",
            " 256.12424982 255.88848151 255.948019   255.85990395 255.69796155\n",
            " 255.50744159 255.95516393 256.13615731 255.87895566 255.92182236\n",
            " 255.92420401 256.1409206  256.31000721 256.21236559 256.20998394\n",
            " 256.32429636 256.47909382 256.21236559 255.97897893 255.9599265\n",
            " 255.77655147 256.04327898 256.49338224 256.93634202 257.18878038\n",
            " 257.11495448 257.35786626 256.98873384 257.1244796  257.23879129\n",
            " 257.10304698 256.92681544 256.95301135 257.26736957 257.24355458\n",
            " 257.40311533 257.45074532 257.87227103 258.10327677 257.86036353\n",
            " 257.61506937 257.58649109 257.38406363 257.41740375 257.19592459\n",
            " 257.40549625 257.18639946 257.1363871  256.86489703 256.6410355\n",
            " 256.75296626 256.72915127 256.66485049 256.66246957 256.61483958\n",
            " 256.65056208 256.85775137 256.96253793 256.74105877 256.91490794\n",
            " 256.67675799 256.38383384 256.7386764  256.76249139 256.79345205\n",
            " 256.85537045 257.08637619 257.11019119 257.34834114 258.10327677\n",
            " 258.05802769 258.5652868  258.37953013 258.4557384  258.39858183\n",
            " 258.65340257 259.09397997 258.88202594 259.10350655 259.51788659\n",
            " 258.9010791  258.41048933 258.44621182 258.34142672 258.78914833\n",
            " 259.05349419 259.02253499 258.80581912 258.71055914 259.07016498\n",
            " 258.9439458  259.15113654 259.09874326 259.14637325 258.99157579\n",
            " 258.51765681 258.52480101 258.52003918 258.29141435 257.967531\n",
            " 257.86036353 257.98896363 258.24378436 257.98896363 257.44121875\n",
            " 257.33167035 257.28880365 256.99111621 257.30309207 256.96730122\n",
            " 257.0387462  257.04589041 257.44360112 257.34119693 257.32452614\n",
            " 256.70533627 257.05779791 256.92443452 257.67222449 256.88632965\n",
            " 256.96253793 256.93634202 257.27451378 256.83869966 256.83631875\n",
            " 256.80059625 256.57673472 256.57911637 256.28619222 256.21712888\n",
            " 257.1602021  257.41025954 257.80320696 258.01754191 257.991346\n",
            " 258.44859419 258.04373928 258.04850112 257.89132273 257.63888437\n",
            " 257.6436462  257.90799352 257.99372692 258.25569186 258.12470939\n",
            " 257.90084931 258.07231611 257.86512682 258.04135691 258.18424688\n",
            " 257.95324114 258.04135691 257.95800443 258.06040861 257.85798116\n",
            " 257.74366947 257.52933452 257.51742702 257.4602719  257.79606275\n",
            " 257.98658271 258.16519517 258.17472175 258.18901017 258.34380763]\n"
          ],
          "name": "stdout"
        }
      ]
    },
    {
      "cell_type": "code",
      "metadata": {
        "id": "r0yiUFPko0ih",
        "colab": {
          "base_uri": "https://localhost:8080/",
          "height": 615
        },
        "outputId": "565c926f-5241-415d-f349-30ff1c40f8de"
      },
      "source": [
        "#Decision Tree\n",
        "pr =tree_p\n",
        "valid = df[X.shape[0]:]\n",
        "valid['Predictions']=pr\n",
        "plt.figure(figsize=(16,8))\n",
        "plt.xlabel('Days')\n",
        "plt.ylabel('Close Price')\n",
        "plt.plot(df['Close'])\n",
        "plt.plot(valid[['Close','Predictions']])\n",
        "plt.legend(['Orig','Val','Pred'])\n",
        "plt.show()\n",
        "stats(valid['Close'],valid['Predictions'])"
      ],
      "execution_count": null,
      "outputs": [
        {
          "output_type": "stream",
          "text": [
            "/usr/local/lib/python3.7/dist-packages/ipykernel_launcher.py:3: SettingWithCopyWarning: \n",
            "A value is trying to be set on a copy of a slice from a DataFrame.\n",
            "Try using .loc[row_indexer,col_indexer] = value instead\n",
            "\n",
            "See the caveats in the documentation: https://pandas.pydata.org/pandas-docs/stable/user_guide/indexing.html#returning-a-view-versus-a-copy\n",
            "  This is separate from the ipykernel package so we can avoid doing imports until\n"
          ],
          "name": "stderr"
        },
        {
          "output_type": "display_data",
          "data": {
            "image/png": "[encoded data removed]",
            "text/plain": [
              "<Figure size 1152x576 with 1 Axes>"
            ]
          },
          "metadata": {
            "tags": [],
            "needs_background": "light"
          }
        },
        {
          "output_type": "execute_result",
          "data": {
            "text/plain": [
              "0.656"
            ]
          },
          "metadata": {
            "tags": []
          },
          "execution_count": 308
        }
      ]
    },
    {
      "cell_type": "code",
      "metadata": {
        "id": "FLRbhwgUu1Wg",
        "colab": {
          "base_uri": "https://localhost:8080/",
          "height": 450
        },
        "outputId": "7f1552f2-e0d5-47dc-e33b-97968c395889"
      },
      "source": [
        "valid"
      ],
      "execution_count": null,
      "outputs": [
        {
          "output_type": "execute_result",
          "data": {
            "text/html": [
              "<div>\n",
              "<style scoped>\n",
              "    .dataframe tbody tr th:only-of-type {\n",
              "        vertical-align: middle;\n",
              "    }\n",
              "\n",
              "    .dataframe tbody tr th {\n",
              "        vertical-align: top;\n",
              "    }\n",
              "\n",
              "    .dataframe thead th {\n",
              "        text-align: right;\n",
              "    }\n",
              "</style>\n",
              "<table border=\"1\" class=\"dataframe\">\n",
              "  <thead>\n",
              "    <tr style=\"text-align: right;\">\n",
              "      <th></th>\n",
              "      <th>Close</th>\n",
              "      <th>Prediction</th>\n",
              "      <th>Predictions</th>\n",
              "    </tr>\n",
              "    <tr>\n",
              "      <th>Date</th>\n",
              "      <th></th>\n",
              "      <th></th>\n",
              "      <th></th>\n",
              "    </tr>\n",
              "  </thead>\n",
              "  <tbody>\n",
              "    <tr>\n",
              "      <th>2018-12-19</th>\n",
              "      <td>300.700012</td>\n",
              "      <td>NaN</td>\n",
              "      <td>259.322603</td>\n",
              "    </tr>\n",
              "    <tr>\n",
              "      <th>2018-12-20</th>\n",
              "      <td>294.049988</td>\n",
              "      <td>NaN</td>\n",
              "      <td>259.355945</td>\n",
              "    </tr>\n",
              "    <tr>\n",
              "      <th>2018-12-21</th>\n",
              "      <td>291.899994</td>\n",
              "      <td>NaN</td>\n",
              "      <td>259.272592</td>\n",
              "    </tr>\n",
              "    <tr>\n",
              "      <th>2018-12-24</th>\n",
              "      <td>293.049988</td>\n",
              "      <td>NaN</td>\n",
              "      <td>259.589332</td>\n",
              "    </tr>\n",
              "    <tr>\n",
              "      <th>2018-12-26</th>\n",
              "      <td>294.149994</td>\n",
              "      <td>NaN</td>\n",
              "      <td>259.632198</td>\n",
              "    </tr>\n",
              "    <tr>\n",
              "      <th>...</th>\n",
              "      <td>...</td>\n",
              "      <td>...</td>\n",
              "      <td>...</td>\n",
              "    </tr>\n",
              "    <tr>\n",
              "      <th>2019-12-24</th>\n",
              "      <td>331.450012</td>\n",
              "      <td>NaN</td>\n",
              "      <td>257.986583</td>\n",
              "    </tr>\n",
              "    <tr>\n",
              "      <th>2019-12-26</th>\n",
              "      <td>329.850006</td>\n",
              "      <td>NaN</td>\n",
              "      <td>258.165195</td>\n",
              "    </tr>\n",
              "    <tr>\n",
              "      <th>2019-12-27</th>\n",
              "      <td>337.250000</td>\n",
              "      <td>NaN</td>\n",
              "      <td>258.174722</td>\n",
              "    </tr>\n",
              "    <tr>\n",
              "      <th>2019-12-30</th>\n",
              "      <td>334.399994</td>\n",
              "      <td>NaN</td>\n",
              "      <td>258.189010</td>\n",
              "    </tr>\n",
              "    <tr>\n",
              "      <th>2019-12-31</th>\n",
              "      <td>333.750000</td>\n",
              "      <td>NaN</td>\n",
              "      <td>258.343808</td>\n",
              "    </tr>\n",
              "  </tbody>\n",
              "</table>\n",
              "<p>250 rows × 3 columns</p>\n",
              "</div>"
            ],
            "text/plain": [
              "                 Close  Prediction  Predictions\n",
              "Date                                           \n",
              "2018-12-19  300.700012         NaN   259.322603\n",
              "2018-12-20  294.049988         NaN   259.355945\n",
              "2018-12-21  291.899994         NaN   259.272592\n",
              "2018-12-24  293.049988         NaN   259.589332\n",
              "2018-12-26  294.149994         NaN   259.632198\n",
              "...                ...         ...          ...\n",
              "2019-12-24  331.450012         NaN   257.986583\n",
              "2019-12-26  329.850006         NaN   258.165195\n",
              "2019-12-27  337.250000         NaN   258.174722\n",
              "2019-12-30  334.399994         NaN   258.189010\n",
              "2019-12-31  333.750000         NaN   258.343808\n",
              "\n",
              "[250 rows x 3 columns]"
            ]
          },
          "metadata": {
            "tags": []
          },
          "execution_count": 292
        }
      ]
    },
    {
      "cell_type": "code",
      "metadata": {
        "id": "ZsHZ3M0ro2oV",
        "colab": {
          "base_uri": "https://localhost:8080/",
          "height": 615
        },
        "outputId": "eb7ddeb8-6547-44b6-926c-6ed7175f0e6d"
      },
      "source": [
        "#Linear Regression\n",
        "pr =lr_p\n",
        "valid = df[X.shape[0]:]\n",
        "valid['Predictions']=pr\n",
        "plt.figure(figsize=(16,8))\n",
        "plt.xlabel('Days')\n",
        "plt.ylabel('Close Price')\n",
        "plt.plot(df['Close'])\n",
        "plt.plot(valid[['Close','Predictions']])\n",
        "plt.legend(['Orig','Val','Pred'])\n",
        "plt.show()\n",
        "stats(valid['Close'],valid['Predictions'])"
      ],
      "execution_count": null,
      "outputs": [
        {
          "output_type": "stream",
          "text": [
            "/usr/local/lib/python3.7/dist-packages/ipykernel_launcher.py:3: SettingWithCopyWarning: \n",
            "A value is trying to be set on a copy of a slice from a DataFrame.\n",
            "Try using .loc[row_indexer,col_indexer] = value instead\n",
            "\n",
            "See the caveats in the documentation: https://pandas.pydata.org/pandas-docs/stable/user_guide/indexing.html#returning-a-view-versus-a-copy\n",
            "  This is separate from the ipykernel package so we can avoid doing imports until\n"
          ],
          "name": "stderr"
        },
        {
          "output_type": "display_data",
          "data": {
            "image/png": "[encoded data removed]",
            "text/plain": [
              "<Figure size 1152x576 with 1 Axes>"
            ]
          },
          "metadata": {
            "tags": [],
            "needs_background": "light"
          }
        },
        {
          "output_type": "execute_result",
          "data": {
            "text/plain": [
              "0.168"
            ]
          },
          "metadata": {
            "tags": []
          },
          "execution_count": 309
        }
      ]
    }
  ]
}